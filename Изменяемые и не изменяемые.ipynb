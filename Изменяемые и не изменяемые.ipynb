{
 "cells": [
  {
   "cell_type": "code",
   "execution_count": 15,
   "metadata": {},
   "outputs": [
    {
     "name": "stdout",
     "output_type": "stream",
     "text": [
      "94611753860544 94611753860576\n",
      "5 6\n",
      "94611753860576 94611753860544 94611753860544\n",
      "6 5\n",
      "94611753860672 94611753860544 94611753860544\n",
      "9 5\n"
     ]
    }
   ],
   "source": [
    "a = 5\n",
    "b = 6\n",
    "\n",
    "print(id(a), id(b))\n",
    "print(a, b)\n",
    "\n",
    "# a, b = b, a\n",
    "\n",
    "# a, d, s = 1, 2, 3\n",
    "\n",
    "c = a\n",
    "a = b\n",
    "b = c\n",
    "\n",
    "\n",
    "print(id(a), id(b), id(c))\n",
    "print(a, b)\n",
    "\n",
    "a = a + 3\n",
    "print(id(a), id(b), id(c))\n",
    "print(a, b)"
   ]
  },
  {
   "cell_type": "code",
   "execution_count": 16,
   "metadata": {},
   "outputs": [
    {
     "name": "stdout",
     "output_type": "stream",
     "text": [
      "140704418336448\n",
      "140704418336448\n",
      "140704418336448\n"
     ]
    }
   ],
   "source": [
    "s = [1,3,2]\n",
    "print(id(s))\n",
    "\n",
    "s.append(4)\n",
    "d = s\n",
    "\n",
    "s.sort()\n",
    "\n",
    "print(id(d))\n",
    "print(id(s))"
   ]
  },
  {
   "cell_type": "code",
   "execution_count": 17,
   "metadata": {},
   "outputs": [
    {
     "name": "stdout",
     "output_type": "stream",
     "text": [
      "[1, 2, 3, 4]\n"
     ]
    }
   ],
   "source": [
    "le = [1,2,3]\n",
    "ds = le\n",
    "le.append(4)\n",
    "print(ds)"
   ]
  }
 ],
 "metadata": {
  "kernelspec": {
   "display_name": "Python 3",
   "language": "python",
   "name": "python3"
  },
  "language_info": {
   "codemirror_mode": {
    "name": "ipython",
    "version": 3
   },
   "file_extension": ".py",
   "mimetype": "text/x-python",
   "name": "python",
   "nbconvert_exporter": "python",
   "pygments_lexer": "ipython3",
   "version": "3.8.5"
  }
 },
 "nbformat": 4,
 "nbformat_minor": 4
}
